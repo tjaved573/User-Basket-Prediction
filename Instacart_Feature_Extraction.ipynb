{
 "cells": [
  {
   "cell_type": "code",
   "execution_count": 24,
   "metadata": {},
   "outputs": [],
   "source": [
    "import numpy as np\n",
    "import pandas as pd\n",
    "import matplotlib.pyplot as plt\n",
    "%matplotlib inline"
   ]
  },
  {
   "cell_type": "code",
   "execution_count": 25,
   "metadata": {},
   "outputs": [],
   "source": [
    "from scipy import stats\n",
    "from scipy.stats import norm, skew"
   ]
  },
  {
   "cell_type": "code",
   "execution_count": 26,
   "metadata": {},
   "outputs": [],
   "source": [
    "import seaborn as sb"
   ]
  },
  {
   "cell_type": "code",
   "execution_count": 27,
   "metadata": {},
   "outputs": [],
   "source": [
    "#EDA\n",
    "#possible Missing values for columns\n",
    "miss_val=['NaN']"
   ]
  },
  {
   "cell_type": "code",
   "execution_count": 28,
   "metadata": {},
   "outputs": [],
   "source": [
    "# Reading Data"
   ]
  },
  {
   "cell_type": "code",
   "execution_count": 29,
   "metadata": {},
   "outputs": [],
   "source": [
    "aisles=pd.read_csv('/Users/taimoorjaved/Desktop/Dev/instacart-market-basket-analysis-files/aisles.csv', na_values=miss_val)"
   ]
  },
  {
   "cell_type": "code",
   "execution_count": 30,
   "metadata": {},
   "outputs": [],
   "source": [
    "departments=pd.read_csv('/Users/taimoorjaved/Desktop/Dev/instacart-market-basket-analysis-files/departments.csv', na_values=miss_val)"
   ]
  },
  {
   "cell_type": "code",
   "execution_count": 31,
   "metadata": {},
   "outputs": [],
   "source": [
    "products=pd.read_csv('/Users/taimoorjaved/Desktop/Dev/instacart-market-basket-analysis-files/products.csv', na_values=miss_val)\n",
    "#products.isnull().values.any()\n",
    "#products.head(10)"
   ]
  },
  {
   "cell_type": "code",
   "execution_count": 32,
   "metadata": {},
   "outputs": [],
   "source": [
    "order_products_prior=pd.read_csv('/Users/taimoorjaved/Desktop/Dev/instacart-market-basket-analysis-files/order_products__prior.csv', na_values=miss_val)"
   ]
  },
  {
   "cell_type": "code",
   "execution_count": 33,
   "metadata": {},
   "outputs": [],
   "source": [
    "order_products_train=pd.read_csv('/Users/taimoorjaved/Desktop/Dev/instacart-market-basket-analysis-files/order_products__train.csv', na_values=miss_val)"
   ]
  },
  {
   "cell_type": "code",
   "execution_count": 34,
   "metadata": {},
   "outputs": [],
   "source": [
    "orders=pd.read_csv('/Users/taimoorjaved/Desktop/Dev/instacart-market-basket-analysis-files/orders.csv', na_values=miss_val)\n",
    "orders.fillna(-1, inplace=True) # Fill missing values with -1"
   ]
  },
  {
   "cell_type": "code",
   "execution_count": 35,
   "metadata": {},
   "outputs": [
    {
     "data": {
      "text/plain": [
       "(33819106, 4)"
      ]
     },
     "execution_count": 35,
     "metadata": {},
     "output_type": "execute_result"
    }
   ],
   "source": [
    "# Combining dataframes orders_prior and orders_train\n",
    "order_products_total=pd.concat([order_products_prior, order_products_train], axis=0)\n",
    "order_products_total.shape"
   ]
  },
  {
   "cell_type": "code",
   "execution_count": 36,
   "metadata": {},
   "outputs": [
    {
     "data": {
      "text/html": [
       "<div>\n",
       "<style scoped>\n",
       "    .dataframe tbody tr th:only-of-type {\n",
       "        vertical-align: middle;\n",
       "    }\n",
       "\n",
       "    .dataframe tbody tr th {\n",
       "        vertical-align: top;\n",
       "    }\n",
       "\n",
       "    .dataframe thead th {\n",
       "        text-align: right;\n",
       "    }\n",
       "</style>\n",
       "<table border=\"1\" class=\"dataframe\">\n",
       "  <thead>\n",
       "    <tr style=\"text-align: right;\">\n",
       "      <th></th>\n",
       "      <th>order_id</th>\n",
       "      <th>user_id</th>\n",
       "      <th>eval_set</th>\n",
       "      <th>order_number</th>\n",
       "      <th>order_dow</th>\n",
       "      <th>order_hour_of_day</th>\n",
       "      <th>days_since_prior_order</th>\n",
       "      <th>product_id</th>\n",
       "      <th>add_to_cart_order</th>\n",
       "      <th>reordered</th>\n",
       "    </tr>\n",
       "  </thead>\n",
       "  <tbody>\n",
       "    <tr>\n",
       "      <th>0</th>\n",
       "      <td>2539329</td>\n",
       "      <td>1</td>\n",
       "      <td>prior</td>\n",
       "      <td>1</td>\n",
       "      <td>2</td>\n",
       "      <td>8</td>\n",
       "      <td>-1.0</td>\n",
       "      <td>196</td>\n",
       "      <td>1</td>\n",
       "      <td>0</td>\n",
       "    </tr>\n",
       "    <tr>\n",
       "      <th>1</th>\n",
       "      <td>2539329</td>\n",
       "      <td>1</td>\n",
       "      <td>prior</td>\n",
       "      <td>1</td>\n",
       "      <td>2</td>\n",
       "      <td>8</td>\n",
       "      <td>-1.0</td>\n",
       "      <td>14084</td>\n",
       "      <td>2</td>\n",
       "      <td>0</td>\n",
       "    </tr>\n",
       "    <tr>\n",
       "      <th>2</th>\n",
       "      <td>2539329</td>\n",
       "      <td>1</td>\n",
       "      <td>prior</td>\n",
       "      <td>1</td>\n",
       "      <td>2</td>\n",
       "      <td>8</td>\n",
       "      <td>-1.0</td>\n",
       "      <td>12427</td>\n",
       "      <td>3</td>\n",
       "      <td>0</td>\n",
       "    </tr>\n",
       "    <tr>\n",
       "      <th>3</th>\n",
       "      <td>2539329</td>\n",
       "      <td>1</td>\n",
       "      <td>prior</td>\n",
       "      <td>1</td>\n",
       "      <td>2</td>\n",
       "      <td>8</td>\n",
       "      <td>-1.0</td>\n",
       "      <td>26088</td>\n",
       "      <td>4</td>\n",
       "      <td>0</td>\n",
       "    </tr>\n",
       "    <tr>\n",
       "      <th>4</th>\n",
       "      <td>2539329</td>\n",
       "      <td>1</td>\n",
       "      <td>prior</td>\n",
       "      <td>1</td>\n",
       "      <td>2</td>\n",
       "      <td>8</td>\n",
       "      <td>-1.0</td>\n",
       "      <td>26405</td>\n",
       "      <td>5</td>\n",
       "      <td>0</td>\n",
       "    </tr>\n",
       "    <tr>\n",
       "      <th>5</th>\n",
       "      <td>2398795</td>\n",
       "      <td>1</td>\n",
       "      <td>prior</td>\n",
       "      <td>2</td>\n",
       "      <td>3</td>\n",
       "      <td>7</td>\n",
       "      <td>15.0</td>\n",
       "      <td>196</td>\n",
       "      <td>1</td>\n",
       "      <td>1</td>\n",
       "    </tr>\n",
       "    <tr>\n",
       "      <th>6</th>\n",
       "      <td>2398795</td>\n",
       "      <td>1</td>\n",
       "      <td>prior</td>\n",
       "      <td>2</td>\n",
       "      <td>3</td>\n",
       "      <td>7</td>\n",
       "      <td>15.0</td>\n",
       "      <td>10258</td>\n",
       "      <td>2</td>\n",
       "      <td>0</td>\n",
       "    </tr>\n",
       "    <tr>\n",
       "      <th>7</th>\n",
       "      <td>2398795</td>\n",
       "      <td>1</td>\n",
       "      <td>prior</td>\n",
       "      <td>2</td>\n",
       "      <td>3</td>\n",
       "      <td>7</td>\n",
       "      <td>15.0</td>\n",
       "      <td>12427</td>\n",
       "      <td>3</td>\n",
       "      <td>1</td>\n",
       "    </tr>\n",
       "    <tr>\n",
       "      <th>8</th>\n",
       "      <td>2398795</td>\n",
       "      <td>1</td>\n",
       "      <td>prior</td>\n",
       "      <td>2</td>\n",
       "      <td>3</td>\n",
       "      <td>7</td>\n",
       "      <td>15.0</td>\n",
       "      <td>13176</td>\n",
       "      <td>4</td>\n",
       "      <td>0</td>\n",
       "    </tr>\n",
       "    <tr>\n",
       "      <th>9</th>\n",
       "      <td>2398795</td>\n",
       "      <td>1</td>\n",
       "      <td>prior</td>\n",
       "      <td>2</td>\n",
       "      <td>3</td>\n",
       "      <td>7</td>\n",
       "      <td>15.0</td>\n",
       "      <td>26088</td>\n",
       "      <td>5</td>\n",
       "      <td>1</td>\n",
       "    </tr>\n",
       "  </tbody>\n",
       "</table>\n",
       "</div>"
      ],
      "text/plain": [
       "   order_id  user_id eval_set  order_number  order_dow  order_hour_of_day  \\\n",
       "0   2539329        1    prior             1          2                  8   \n",
       "1   2539329        1    prior             1          2                  8   \n",
       "2   2539329        1    prior             1          2                  8   \n",
       "3   2539329        1    prior             1          2                  8   \n",
       "4   2539329        1    prior             1          2                  8   \n",
       "5   2398795        1    prior             2          3                  7   \n",
       "6   2398795        1    prior             2          3                  7   \n",
       "7   2398795        1    prior             2          3                  7   \n",
       "8   2398795        1    prior             2          3                  7   \n",
       "9   2398795        1    prior             2          3                  7   \n",
       "\n",
       "   days_since_prior_order  product_id  add_to_cart_order  reordered  \n",
       "0                    -1.0         196                  1          0  \n",
       "1                    -1.0       14084                  2          0  \n",
       "2                    -1.0       12427                  3          0  \n",
       "3                    -1.0       26088                  4          0  \n",
       "4                    -1.0       26405                  5          0  \n",
       "5                    15.0         196                  1          1  \n",
       "6                    15.0       10258                  2          0  \n",
       "7                    15.0       12427                  3          1  \n",
       "8                    15.0       13176                  4          0  \n",
       "9                    15.0       26088                  5          1  "
      ]
     },
     "execution_count": 36,
     "metadata": {},
     "output_type": "execute_result"
    }
   ],
   "source": [
    "order_products_usr=pd.merge(orders, order_products_total, on='order_id')\n",
    "#order_products_usr.isnull().sum()\n",
    "order_products_usr.head(10)"
   ]
  },
  {
   "cell_type": "code",
   "execution_count": 37,
   "metadata": {},
   "outputs": [
    {
     "name": "stdout",
     "output_type": "stream",
     "text": [
      "product_id\n",
      "24852    491291\n",
      "13176    394930\n",
      "21137    275577\n",
      "21903    251705\n",
      "47209    220877\n",
      "          ...  \n",
      "7626          1\n",
      "14485         1\n",
      "43098         1\n",
      "11254         1\n",
      "36233         1\n",
      "Length: 49685, dtype: int64\n"
     ]
    }
   ],
   "source": [
    "#Most ordered product by all users\n",
    "most_freq_prod=order_products_usr.groupby('product_id').size().sort_values(ascending=False)\n",
    "print(most_freq_prod)"
   ]
  },
  {
   "cell_type": "code",
   "execution_count": 38,
   "metadata": {
    "scrolled": false
   },
   "outputs": [
    {
     "name": "stdout",
     "output_type": "stream",
     "text": [
      "user_id  product_id\n",
      "1        196           11\n",
      "         10258         10\n",
      "         12427         10\n",
      "         25133          9\n",
      "         13032          4\n",
      "                       ..\n",
      "206209   41665          1\n",
      "         42606          1\n",
      "         44325          1\n",
      "         48370          1\n",
      "         48697          1\n",
      "Name: product_id, Length: 13863746, dtype: int64\n"
     ]
    }
   ],
   "source": [
    "# Total number of times each product was bought by every user\n",
    "freq_user_product=order_products_usr.groupby('user_id')['product_id'].value_counts()\n",
    "    #freq_user_product[i]=order_products_usr[order_products_usr['user_id']==i]['product_id'].value_counts()\n",
    "    #most_freq_product_user[i]=freq_user_product[i].index[0]\n",
    "    #print(\"Most frequent product for User {} is {}\\n\\n\".format(i,most_freq_product_user[i]))\n",
    "print(freq_user_product)"
   ]
  },
  {
   "cell_type": "code",
   "execution_count": 39,
   "metadata": {
    "code_folding": []
   },
   "outputs": [
    {
     "name": "stdout",
     "output_type": "stream",
     "text": [
      "        user_id  total_unique_orders\n",
      "0             1                   11\n",
      "1             2                   15\n",
      "2             3                   12\n",
      "3             4                    5\n",
      "4             5                    5\n",
      "...         ...                  ...\n",
      "206204   206205                    4\n",
      "206205   206206                   67\n",
      "206206   206207                   16\n",
      "206207   206208                   49\n",
      "206208   206209                   14\n",
      "\n",
      "[206209 rows x 2 columns]\n"
     ]
    }
   ],
   "source": [
    "# Total number of unique orders for every user\n",
    "total_orders_user=order_products_usr.groupby('user_id')['order_id'].nunique().reset_index().rename(columns={'order_id':'total_unique_orders'})\n",
    "print(total_orders_user)"
   ]
  },
  {
   "cell_type": "code",
   "execution_count": 40,
   "metadata": {},
   "outputs": [
    {
     "name": "stdout",
     "output_type": "stream",
     "text": [
      "user_id  order_id\n",
      "1        1187899     11\n",
      "         2550362      9\n",
      "         431534       8\n",
      "         2295261      6\n",
      "         2398795      6\n",
      "                     ..\n",
      "206209   272231       8\n",
      "         1854736      8\n",
      "         2307371      3\n",
      "         2558525      3\n",
      "         3186442      2\n",
      "Name: order_id, Length: 3346083, dtype: int64\n"
     ]
    }
   ],
   "source": [
    "# This gives the total number of products in EACH order against all users.\n",
    "# Segregation of the below values.\n",
    "total_orders_user3=order_products_usr.groupby('user_id')['order_id'].value_counts() \n",
    "print(total_orders_user3)"
   ]
  },
  {
   "cell_type": "code",
   "execution_count": 41,
   "metadata": {},
   "outputs": [
    {
     "name": "stdout",
     "output_type": "stream",
     "text": [
      "        user_id  count_orders\n",
      "0             1            70\n",
      "1             2           226\n",
      "2             3            88\n",
      "3             4            18\n",
      "4             5            46\n",
      "...         ...           ...\n",
      "206204   206205            51\n",
      "206205   206206           285\n",
      "206206   206207           223\n",
      "206207   206208           677\n",
      "206208   206209           137\n",
      "\n",
      "[206209 rows x 2 columns]\n"
     ]
    }
   ],
   "source": [
    "# This gives the total number of orders for all users. Sum of values above\n",
    "total_orders_user2=order_products_usr.groupby('user_id')['order_id'].count().reset_index().rename(columns={'order_id':'count_orders'})\n",
    "print(total_orders_user2)"
   ]
  },
  {
   "cell_type": "code",
   "execution_count": 42,
   "metadata": {},
   "outputs": [
    {
     "name": "stdout",
     "output_type": "stream",
     "text": [
      "70\n"
     ]
    }
   ],
   "source": [
    "torders=0\n",
    "for key, value in total_orders_user3.items():\n",
    "    if (key[0]==1):\n",
    "        torders+=value\n",
    "\n",
    "print(torders)"
   ]
  },
  {
   "cell_type": "code",
   "execution_count": 52,
   "metadata": {},
   "outputs": [
    {
     "name": "stdout",
     "output_type": "stream",
     "text": [
      "        user_id  num_unique_products\n",
      "0             1                   19\n",
      "1             2                  121\n",
      "2             3                   33\n",
      "3             4                   17\n",
      "4             5                   28\n",
      "...         ...                  ...\n",
      "206204   206205                   37\n",
      "206205   206206                  150\n",
      "206206   206207                   92\n",
      "206207   206208                  198\n",
      "206208   206209                   72\n",
      "\n",
      "[206209 rows x 2 columns]\n"
     ]
    }
   ],
   "source": [
    "#Number of unique products ordered by every user\n",
    "unique_product_user=order_products_usr.groupby('user_id')['product_id'].nunique().reset_index().rename(columns={'product_id':'num_unique_products'})\n",
    "print(unique_product_user)    "
   ]
  },
  {
   "cell_type": "code",
   "execution_count": 53,
   "metadata": {},
   "outputs": [
    {
     "name": "stdout",
     "output_type": "stream",
     "text": [
      "        user_id  num_unique_products  count_orders  new_product_ratio\n",
      "0             1                   19            70          27.142857\n",
      "1             2                  121           226          53.539823\n",
      "2             3                   33            88          37.500000\n",
      "3             4                   17            18          94.444444\n",
      "4             5                   28            46          60.869565\n",
      "...         ...                  ...           ...                ...\n",
      "206204   206205                   37            51          72.549020\n",
      "206205   206206                  150           285          52.631579\n",
      "206206   206207                   92           223          41.255605\n",
      "206207   206208                  198           677          29.246677\n",
      "206208   206209                   72           137          52.554745\n",
      "\n",
      "[206209 rows x 4 columns]\n"
     ]
    }
   ],
   "source": [
    "#new_product_ratio for every user= unique products/total products\n",
    "nd=pd.merge(unique_product_user, total_orders_user2, on=\"user_id\")\n",
    "#nd['new_product_ratio'] = nd.apply(lambda row: row.unique_product_count/row.total_product_count*100, axis=1)\n",
    "nd['new_product_ratio'] = nd.apply(lambda row: row.num_unique_products/row.count_orders*100, axis=1)\n",
    "print(nd)"
   ]
  },
  {
   "cell_type": "code",
   "execution_count": 45,
   "metadata": {},
   "outputs": [
    {
     "name": "stdout",
     "output_type": "stream",
     "text": [
      "          user_id  product_id  orders_with_product  total_orders  \\\n",
      "0               1         196                   11            70   \n",
      "1               1       10258                   10            70   \n",
      "2               1       10326                    1            70   \n",
      "3               1       12427                   10            70   \n",
      "4               1       13032                    4            70   \n",
      "...           ...         ...                  ...           ...   \n",
      "13863741   206209       43961                    3           137   \n",
      "13863742   206209       44325                    1           137   \n",
      "13863743   206209       48370                    1           137   \n",
      "13863744   206209       48697                    1           137   \n",
      "13863745   206209       48742                    2           137   \n",
      "\n",
      "          product_order_ratio  \n",
      "0                   15.714286  \n",
      "1                   14.285714  \n",
      "2                    1.428571  \n",
      "3                   14.285714  \n",
      "4                    5.714286  \n",
      "...                       ...  \n",
      "13863741             2.189781  \n",
      "13863742             0.729927  \n",
      "13863743             0.729927  \n",
      "13863744             0.729927  \n",
      "13863745             1.459854  \n",
      "\n",
      "[13863746 rows x 5 columns]\n"
     ]
    }
   ],
   "source": [
    "#Product ordering ratio for every user = total number of orders containing product/ total number of orders\n",
    "#How many times a user has reordered a product?\n",
    "order_contains_product=order_products_usr.groupby(['user_id', 'product_id'])['order_id'].agg(['count']).reset_index().rename(columns={'count': \"orders_with_product\"})\n",
    "total_user_order=order_products_usr.groupby('user_id')['order_id'].agg(['count']).reset_index().rename(columns={'count': \"total_orders\"})\n",
    "nro=pd.merge(order_contains_product, total_user_order, on=\"user_id\")\n",
    "nro['product_order_ratio']=nro.apply(lambda row: row.orders_with_product/row.total_orders*100, axis=1)\n",
    "print(nro)"
   ]
  },
  {
   "cell_type": "code",
   "execution_count": null,
   "metadata": {},
   "outputs": [],
   "source": [
    "print(total_user_order.iloc[0]) #iloc takes specific row number as paramter."
   ]
  },
  {
   "cell_type": "code",
   "execution_count": null,
   "metadata": {},
   "outputs": [],
   "source": [
    "# Frequency of products ordered by every user in each order\n",
    "#user_order_products22=order_products_usr.groupby(['user_id', 'order_id'])['product_id'].count() # returns a Series\n",
    "user_order_products=order_products_usr.groupby(['user_id', 'order_id'])['product_id'].agg(['count',  'mean']) # returns a Dataframe\n",
    "for a in user_order_products.itertuples():\n",
    "    print(a[0], a[1], a[2])"
   ]
  },
  {
   "cell_type": "code",
   "execution_count": null,
   "metadata": {},
   "outputs": [],
   "source": [
    "# Most Frequent time for every user\n",
    "user_time=order_products_usr.groupby('user_id')['order_hour_of_day'].value_counts()"
   ]
  },
  {
   "cell_type": "code",
   "execution_count": null,
   "metadata": {},
   "outputs": [],
   "source": [
    "#Most frequent Time of purchase for the shop\n",
    "most_popular_time=order_products_usr.groupby('order_hour_of_day')['user_id'].count()"
   ]
  },
  {
   "cell_type": "code",
   "execution_count": null,
   "metadata": {
    "scrolled": false
   },
   "outputs": [],
   "source": [
    "# Most frequent day of purchase for every user\n",
    "user_day=order_products_usr.groupby('user_id')['order_dow'].value_counts()"
   ]
  },
  {
   "cell_type": "code",
   "execution_count": null,
   "metadata": {},
   "outputs": [],
   "source": [
    "# Most frequent day of purchase for shop\n",
    "most_popular_day=order_products_usr.groupby('order_dow')['user_id'].count()"
   ]
  },
  {
   "cell_type": "code",
   "execution_count": null,
   "metadata": {},
   "outputs": [],
   "source": [
    "order_products_usr.head()"
   ]
  },
  {
   "cell_type": "code",
   "execution_count": null,
   "metadata": {},
   "outputs": [],
   "source": [
    "departments.head(2)"
   ]
  },
  {
   "cell_type": "code",
   "execution_count": null,
   "metadata": {
    "code_folding": []
   },
   "outputs": [],
   "source": [
    "#Most ordered product in every department\n",
    "most_popular_product_department="
   ]
  },
  {
   "cell_type": "code",
   "execution_count": null,
   "metadata": {},
   "outputs": [],
   "source": [
    "#Did any user reorder their previous order"
   ]
  },
  {
   "cell_type": "code",
   "execution_count": null,
   "metadata": {},
   "outputs": [],
   "source": [
    "#Most frequent time when users purchase"
   ]
  },
  {
   "cell_type": "code",
   "execution_count": null,
   "metadata": {},
   "outputs": [],
   "source": [
    "#Times a customer orders from the same department. Wrt to customer"
   ]
  },
  {
   "cell_type": "code",
   "execution_count": null,
   "metadata": {},
   "outputs": [],
   "source": [
    "#Days a customer orders the same products"
   ]
  },
  {
   "cell_type": "code",
   "execution_count": null,
   "metadata": {},
   "outputs": [],
   "source": [
    "#Times a product is ordered from the same department. Wrt product"
   ]
  }
 ],
 "metadata": {
  "kernelspec": {
   "display_name": "Python 3",
   "language": "python",
   "name": "python3"
  },
  "language_info": {
   "codemirror_mode": {
    "name": "ipython",
    "version": 3
   },
   "file_extension": ".py",
   "mimetype": "text/x-python",
   "name": "python",
   "nbconvert_exporter": "python",
   "pygments_lexer": "ipython3",
   "version": "3.6.4"
  }
 },
 "nbformat": 4,
 "nbformat_minor": 2
}
