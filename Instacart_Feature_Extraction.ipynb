{
 "cells": [
  {
   "cell_type": "code",
   "execution_count": 361,
   "metadata": {},
   "outputs": [],
   "source": [
    "import numpy as np\n",
    "import pandas as pd\n",
    "import matplotlib.pyplot as plt\n",
    "%matplotlib inline"
   ]
  },
  {
   "cell_type": "code",
   "execution_count": 362,
   "metadata": {},
   "outputs": [],
   "source": [
    "from scipy import stats\n",
    "from scipy.stats import norm, skew"
   ]
  },
  {
   "cell_type": "code",
   "execution_count": 363,
   "metadata": {},
   "outputs": [],
   "source": [
    "import seaborn as sb"
   ]
  },
  {
   "cell_type": "code",
   "execution_count": 546,
   "metadata": {},
   "outputs": [],
   "source": [
    "#EDA"
   ]
  },
  {
   "cell_type": "code",
   "execution_count": 547,
   "metadata": {},
   "outputs": [],
   "source": [
    "#possible Missing values\n",
    "miss_val=['NaN']"
   ]
  },
  {
   "cell_type": "code",
   "execution_count": 548,
   "metadata": {},
   "outputs": [],
   "source": [
    "# Reading Data"
   ]
  },
  {
   "cell_type": "code",
   "execution_count": 549,
   "metadata": {},
   "outputs": [],
   "source": [
    "aisles=pd.read_csv('/Users/taimoorjaved/Desktop/Dev/instacart-market-basket-analysis-files/aisles.csv', na_values=miss_val)"
   ]
  },
  {
   "cell_type": "code",
   "execution_count": 550,
   "metadata": {},
   "outputs": [],
   "source": [
    "departments=pd.read_csv('/Users/taimoorjaved/Desktop/Dev/instacart-market-basket-analysis-files/departments.csv', na_values=miss_val)"
   ]
  },
  {
   "cell_type": "code",
   "execution_count": 551,
   "metadata": {},
   "outputs": [],
   "source": [
    "products=pd.read_csv('/Users/taimoorjaved/Desktop/Dev/instacart-market-basket-analysis-files/products.csv', na_values=miss_val)\n",
    "#products.isnull().values.any()\n",
    "#products.head(10)"
   ]
  },
  {
   "cell_type": "code",
   "execution_count": 552,
   "metadata": {},
   "outputs": [],
   "source": [
    "order_products_prior=pd.read_csv('/Users/taimoorjaved/Desktop/Dev/instacart-market-basket-analysis-files/order_products__prior.csv', na_values=miss_val)"
   ]
  },
  {
   "cell_type": "code",
   "execution_count": 553,
   "metadata": {},
   "outputs": [],
   "source": [
    "order_products_train=pd.read_csv('/Users/taimoorjaved/Desktop/Dev/instacart-market-basket-analysis-files/order_products__train.csv', na_values=miss_val)"
   ]
  },
  {
   "cell_type": "code",
   "execution_count": 554,
   "metadata": {},
   "outputs": [],
   "source": [
    "orders=pd.read_csv('/Users/taimoorjaved/Desktop/Dev/instacart-market-basket-analysis-files/orders.csv', na_values=miss_val)\n",
    "orders.fillna(-1, inplace=True) # Fill missing values with -1"
   ]
  },
  {
   "cell_type": "code",
   "execution_count": 555,
   "metadata": {},
   "outputs": [
    {
     "data": {
      "text/plain": [
       "(33819106, 4)"
      ]
     },
     "execution_count": 555,
     "metadata": {},
     "output_type": "execute_result"
    }
   ],
   "source": [
    "# Combining dataframes orders_prior and orders_train\n",
    "order_products_total=pd.concat([order_products_prior, order_products_train], axis=0)\n",
    "order_products_total.shape"
   ]
  },
  {
   "cell_type": "code",
   "execution_count": null,
   "metadata": {},
   "outputs": [],
   "source": [
    "order_products_usr=pd.merge(orders, order_products_total, on='order_id')\n",
    "#order_products_usr.isnull().sum()\n",
    "order_products_usr.head(10)"
   ]
  },
  {
   "cell_type": "code",
   "execution_count": null,
   "metadata": {},
   "outputs": [],
   "source": [
    "#Most ordered product by all users\n",
    "most_freq_prod=order_products_usr.groupby('product_id').size().sort_values(ascending=False)\n",
    "print(most_freq_prod)"
   ]
  },
  {
   "cell_type": "code",
   "execution_count": 426,
   "metadata": {
    "scrolled": false
   },
   "outputs": [
    {
     "name": "stdout",
     "output_type": "stream",
     "text": [
      "user_id  product_id\n",
      "1        196           11\n",
      "         10258         10\n",
      "         12427         10\n",
      "         25133          9\n",
      "         13032          4\n",
      "                       ..\n",
      "206209   41665          1\n",
      "         42606          1\n",
      "         44325          1\n",
      "         48370          1\n",
      "         48697          1\n",
      "Name: product_id, Length: 13863746, dtype: int64\n"
     ]
    }
   ],
   "source": [
    "# Total number of times each product was bought by every user\n",
    "freq_user_product=dict()\n",
    "\n",
    "for i in range(1,2): #for i in range (1, order_products_usr['user_id'].max()+1):\n",
    "    freq_user_product=order_products_usr.groupby('user_id')['product_id'].value_counts()\n",
    "    #freq_user_product[i]=order_products_usr[order_products_usr['user_id']==i]['product_id'].value_counts()\n",
    "    #most_freq_product_user[i]=freq_user_product[i].index[0]\n",
    "    #print(\"Most frequent product for User {} is {}\\n\\n\".format(i,most_freq_product_user[i]))\n",
    "\n",
    "print(freq_user_product)"
   ]
  },
  {
   "cell_type": "code",
   "execution_count": 474,
   "metadata": {
    "code_folding": []
   },
   "outputs": [
    {
     "name": "stdout",
     "output_type": "stream",
     "text": [
      "user_id\n",
      "1         11\n",
      "2         15\n",
      "3         12\n",
      "4          5\n",
      "5          5\n",
      "          ..\n",
      "206205     4\n",
      "206206    67\n",
      "206207    16\n",
      "206208    49\n",
      "206209    14\n",
      "Name: order_id, Length: 206209, dtype: int64\n"
     ]
    }
   ],
   "source": [
    "# Total number of unique orders for every user\n",
    "total_orders_user=order_products_usr.groupby('user_id')['order_id'].nunique()\n",
    "print(total_orders_user)"
   ]
  },
  {
   "cell_type": "code",
   "execution_count": 459,
   "metadata": {},
   "outputs": [
    {
     "name": "stdout",
     "output_type": "stream",
     "text": [
      "user_id  order_id\n",
      "1        1187899     11\n",
      "         2550362      9\n",
      "         431534       8\n",
      "         2295261      6\n",
      "         2398795      6\n",
      "                     ..\n",
      "206209   272231       8\n",
      "         1854736      8\n",
      "         2307371      3\n",
      "         2558525      3\n",
      "         3186442      2\n",
      "Name: order_id, Length: 3346083, dtype: int64\n"
     ]
    }
   ],
   "source": [
    "# This gives the total number of products in EACH order against all users.\n",
    "# Segregation of the below values.\n",
    "total_orders_user3=order_products_usr.groupby('user_id')['order_id'].value_counts() \n",
    "print(total_orders_user3)"
   ]
  },
  {
   "cell_type": "code",
   "execution_count": 475,
   "metadata": {},
   "outputs": [
    {
     "name": "stdout",
     "output_type": "stream",
     "text": [
      "user_id\n",
      "1          70\n",
      "2         226\n",
      "3          88\n",
      "4          18\n",
      "5          46\n",
      "         ... \n",
      "206205     51\n",
      "206206    285\n",
      "206207    223\n",
      "206208    677\n",
      "206209    137\n",
      "Name: order_id, Length: 206209, dtype: int64\n"
     ]
    }
   ],
   "source": [
    "# This gives the total number of products in all orders for all users. Sum of values above\n",
    "total_orders_user2=order_products_usr.groupby('user_id')['order_id'].size() \n",
    "print(total_orders_user2)"
   ]
  },
  {
   "cell_type": "code",
   "execution_count": 432,
   "metadata": {},
   "outputs": [
    {
     "name": "stdout",
     "output_type": "stream",
     "text": [
      "70\n"
     ]
    }
   ],
   "source": [
    "torders=0\n",
    "for key, value in total_orders_user3.items():\n",
    "    if (key[0]==1):\n",
    "        torders+=value\n",
    "\n",
    "print(torders)"
   ]
  },
  {
   "cell_type": "code",
   "execution_count": 424,
   "metadata": {},
   "outputs": [
    {
     "name": "stdout",
     "output_type": "stream",
     "text": [
      "user_id\n",
      "1          19\n",
      "2         121\n",
      "3          33\n",
      "4          17\n",
      "5          28\n",
      "         ... \n",
      "206205     37\n",
      "206206    150\n",
      "206207     92\n",
      "206208    198\n",
      "206209     72\n",
      "Name: product_id, Length: 206209, dtype: int64\n"
     ]
    }
   ],
   "source": [
    "#Number of unique products ordered by every user\n",
    "unique_product_user=dict()\n",
    "\n",
    "for i in range(1,2): #for i in range (1, order_products_usr['user_id'].max()+1):\n",
    "    unique_product_user=order_products_usr.groupby('user_id')['product_id'].nunique()\n",
    "\n",
    "print(unique_product_user)    "
   ]
  },
  {
   "cell_type": "code",
   "execution_count": 492,
   "metadata": {},
   "outputs": [
    {
     "name": "stdout",
     "output_type": "stream",
     "text": [
      "         unique_product_count  total_product_count  new_product_ratio\n",
      "user_id                                                              \n",
      "1                          19                   70          27.142857\n",
      "2                         121                  226          53.539823\n",
      "3                          33                   88          37.500000\n",
      "4                          17                   18          94.444444\n",
      "5                          28                   46          60.869565\n",
      "...                       ...                  ...                ...\n",
      "206205                     37                   51          72.549020\n",
      "206206                    150                  285          52.631579\n",
      "206207                     92                  223          41.255605\n",
      "206208                    198                  677          29.246677\n",
      "206209                     72                  137          52.554745\n",
      "\n",
      "[206209 rows x 3 columns]\n"
     ]
    }
   ],
   "source": [
    "#new_product_ratio for every user= unique products/total products\n",
    "nd=pd.merge(unique_product_user, total_orders_user2, on=\"user_id\")\n",
    "nd.columns=['unique_product_count', 'total_product_count']\n",
    "nd['new_product_ratio'] = nd.apply(lambda row: row.unique_product_count/row.total_product_count*100, axis=1)\n",
    "print(nd)"
   ]
  },
  {
   "cell_type": "code",
   "execution_count": 502,
   "metadata": {},
   "outputs": [
    {
     "name": "stdout",
     "output_type": "stream",
     "text": [
      "user_id\n",
      "1          70\n",
      "2         226\n",
      "3          88\n",
      "4          18\n",
      "5          46\n",
      "         ... \n",
      "206205     51\n",
      "206206    285\n",
      "206207    223\n",
      "206208    677\n",
      "206209    137\n",
      "Name: order_id, Length: 206209, dtype: int64\n"
     ]
    }
   ],
   "source": [
    "#Product ordering ratio for every user = total number of orders containing product/ total number of orders\n",
    "print(order_products_usr.groupby('user_id')['order_id'].size())"
   ]
  },
  {
   "cell_type": "code",
   "execution_count": 471,
   "metadata": {},
   "outputs": [
    {
     "name": "stdout",
     "output_type": "stream",
     "text": [
      "user_id  order_id  product_id\n",
      "1        431534    196           1\n",
      "                   10258         1\n",
      "                   10326         1\n",
      "                   12427         1\n",
      "                   13176         1\n",
      "                                ..\n",
      "206209   3154581   40396         1\n",
      "                   40534         1\n",
      "                   41213         1\n",
      "         3186442   6187          1\n",
      "                   14197         1\n",
      "Name: product_id, Length: 33819106, dtype: int64\n"
     ]
    }
   ],
   "source": [
    "# Frequency of products ordered by every user in each order\n",
    "user_order_products=order_products_usr.groupby(['user_id', 'order_id'])['product_id'].value_counts()\n",
    "print(user_order_products)"
   ]
  },
  {
   "cell_type": "code",
   "execution_count": 499,
   "metadata": {},
   "outputs": [],
   "source": [
    "# Most Frequent time for every user\n",
    "user_time=order_products_usr.groupby('user_id')['order_hour_of_day'].value_counts()"
   ]
  },
  {
   "cell_type": "code",
   "execution_count": 498,
   "metadata": {},
   "outputs": [],
   "source": [
    "#Most frequent Time of purchase for the shop\n",
    "most_popular_time=order_products_usr.groupby('order_hour_of_day').size()"
   ]
  },
  {
   "cell_type": "code",
   "execution_count": 497,
   "metadata": {
    "scrolled": false
   },
   "outputs": [],
   "source": [
    "# Most frequent day of purchase for every user\n",
    "user_day=order_products_usr.groupby('user_id')['order_dow'].value_counts()"
   ]
  },
  {
   "cell_type": "code",
   "execution_count": 495,
   "metadata": {},
   "outputs": [],
   "source": [
    "# Most frequent day of purchase for shop\n",
    "most_popular_day=order_products_usr.groupby('order_dow').size()"
   ]
  },
  {
   "cell_type": "code",
   "execution_count": 503,
   "metadata": {},
   "outputs": [
    {
     "name": "stdout",
     "output_type": "stream",
     "text": [
      "user_id  product_id\n",
      "1        196           10\n",
      "         10258          9\n",
      "         10326          0\n",
      "         12427          9\n",
      "         13032          3\n",
      "                       ..\n",
      "206209   43961          2\n",
      "         44325          0\n",
      "         48370          0\n",
      "         48697          0\n",
      "         48742          1\n",
      "Name: reordered, Length: 13863746, dtype: int64\n"
     ]
    }
   ],
   "source": [
    "#How many times a user has reordered a product\n",
    "user_products_NotReordered=order_products_usr.groupby(['user_id', 'product_id'])['reordered'].aggregate(\"sum\")\n",
    "print (user_products_NotReordered)"
   ]
  },
  {
   "cell_type": "code",
   "execution_count": 386,
   "metadata": {},
   "outputs": [],
   "source": [
    "#Total number of times a product has been reordered.\n",
    "#percentage of user wrt product"
   ]
  },
  {
   "cell_type": "code",
   "execution_count": 387,
   "metadata": {},
   "outputs": [],
   "source": []
  },
  {
   "cell_type": "code",
   "execution_count": 388,
   "metadata": {},
   "outputs": [],
   "source": [
    "#Overall percentage of reorders for each product"
   ]
  },
  {
   "cell_type": "code",
   "execution_count": 389,
   "metadata": {},
   "outputs": [],
   "source": [
    "#Most ordered product in every department"
   ]
  },
  {
   "cell_type": "code",
   "execution_count": 390,
   "metadata": {},
   "outputs": [],
   "source": [
    "#Did any user reorder their previous order"
   ]
  },
  {
   "cell_type": "code",
   "execution_count": 391,
   "metadata": {},
   "outputs": [],
   "source": [
    "#Most frequent time when users purchase"
   ]
  },
  {
   "cell_type": "code",
   "execution_count": null,
   "metadata": {},
   "outputs": [],
   "source": [
    "#Times a customer orders from the same department. Wrt to customer"
   ]
  },
  {
   "cell_type": "code",
   "execution_count": null,
   "metadata": {},
   "outputs": [],
   "source": [
    "#Days a customer orders the same products"
   ]
  },
  {
   "cell_type": "code",
   "execution_count": null,
   "metadata": {},
   "outputs": [],
   "source": [
    "#Times a product is ordered from the same department. Wrt product"
   ]
  }
 ],
 "metadata": {
  "kernelspec": {
   "display_name": "Python 3",
   "language": "python",
   "name": "python3"
  },
  "language_info": {
   "codemirror_mode": {
    "name": "ipython",
    "version": 3
   },
   "file_extension": ".py",
   "mimetype": "text/x-python",
   "name": "python",
   "nbconvert_exporter": "python",
   "pygments_lexer": "ipython3",
   "version": "3.6.4"
  }
 },
 "nbformat": 4,
 "nbformat_minor": 2
}
